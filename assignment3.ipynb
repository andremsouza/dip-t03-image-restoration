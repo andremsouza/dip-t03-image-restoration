{
 "cells": [
  {
   "cell_type": "code",
   "execution_count": 7,
   "metadata": {},
   "outputs": [],
   "source": [
    "# coding: utf-8\n",
    "# Name: André Moreira Souza\n",
    "# NUSP: 9778985\n",
    "# Course Code: SCC0251\n",
    "# Semester: 2019/1\n",
    "# Assignment: 2 - Image enhancement and filtering"
   ]
  },
  {
   "cell_type": "code",
   "execution_count": 8,
   "metadata": {},
   "outputs": [],
   "source": [
    "import numpy as np\n",
    "import scipy\n",
    "import imageio"
   ]
  },
  {
   "cell_type": "markdown",
   "metadata": {},
   "source": [
    "## Defining functions"
   ]
  },
  {
   "cell_type": "code",
   "execution_count": 9,
   "metadata": {},
   "outputs": [],
   "source": [
    "# F == 1\n",
    "def adaptive_denoising(g, gamma, k, mode):\n",
    "    pass\n",
    "\n",
    "# F == 2\n",
    "def constrained_least_squares(g, gamma, k, sigma):\n",
    "    pass\n",
    "\n",
    "# gaussian_filter function\n",
    "def gaussian_filter(k=3, sigma=1.0):\n",
    "    arx = np.arange((-k // 2) + 1.0, (k // 2) + 1.0)\n",
    "    x, y = np.meshgrid(arx, arx)\n",
    "    filt = np.exp(-(1/2) * (np.square(x) + np.square(y)) / np.square(sigma))\n",
    "    return filt / np.sum(filt)\n",
    "\n",
    "# Normalize value of an numpy array between 0 and a given max value\n",
    "def normalize (arr, maxvalue):\n",
    "    return (arr-arr.min()) * (maxvalue / (arr.max()-arr.min()))\n",
    "\n",
    "# root mean squared error (RMSE) function\n",
    "def rmse (img_g, img_r):\n",
    "    np.sqrt((np.sum(np.power(img_g.astype(np.double) - img_r.astype(np.double), 2)))/(img_g.shape[0]*img_g.shape[1]))"
   ]
  },
  {
   "cell_type": "markdown",
   "metadata": {},
   "source": [
    "## Main function"
   ]
  },
  {
   "cell_type": "code",
   "execution_count": 10,
   "metadata": {},
   "outputs": [],
   "source": [
    "if __name__ == '__main__':\n",
    "    # get user input\n",
    "    fpath, gpath = str(input()).strip(), str(input()).strip() # f = reference image, g = degraded image\n",
    "    f, g = imageio.imread(fpath), imageio.imread(gpath) # reading images f and g\n",
    "    F = int(input()) # F = type of filter for restoration (1 -> denoising; 2 -> deblurring)\n",
    "    if (F not in [1, 2]): raise ValueError(\"Unexpected value for F (should be '1' or '2')\")\n",
    "    gamma = np.double(input())\n",
    "    if (gamma < 0 or gamma > 1): raise ValueError(\"Unexpected value for gamma (should be a float between '0' and '1')\")\n",
    "    k = int(input()) # k = size of denoising filter or degradation function (k in [3, 5, 7, 9, 11])\n",
    "    if (k not in [3, 5, 7, 9, 11]): raise ValueError(\"Unexpected value for k (should be in [3, 5, 7, 9, 11])\")\n",
    "    # get specific inputs and restore image g\n",
    "    if(F == 1):\n",
    "        mode = str(input())\n",
    "        if (mode not in ['average', 'robust']): raise ValueError(\"Unexpected value for mode (should be in ['average', 'robust'])\")\n",
    "        # f_r = F1\n",
    "    elif (F == 2):\n",
    "        sigma = np.double(input())\n",
    "        if (sigma <= 0): raise ValueError(\"Unexpected value for sigma (should be a float > 0)\")\n",
    "        # f_r = F2\n",
    "    print('%.3f' % rmse(f, f_r))"
   ]
  }
 ],
 "metadata": {
  "kernelspec": {
   "display_name": "Python 3",
   "language": "python",
   "name": "python3"
  },
  "language_info": {
   "codemirror_mode": {
    "name": "ipython",
    "version": 3
   },
   "file_extension": ".py",
   "mimetype": "text/x-python",
   "name": "python",
   "nbconvert_exporter": "python",
   "pygments_lexer": "ipython3",
   "version": "3.6.5"
  }
 },
 "nbformat": 4,
 "nbformat_minor": 2
}
