{
 "cells": [
  {
   "cell_type": "code",
   "execution_count": 5,
   "metadata": {},
   "outputs": [],
   "source": [
    "# coding: utf-8\n",
    "# Name: André Moreira Souza\n",
    "# NUSP: 9778985\n",
    "# Course Code: SCC0251\n",
    "# Semester: 2019/1\n",
    "# Assignment: 2 - Image enhancement and filtering"
   ]
  },
  {
   "cell_type": "code",
   "execution_count": 6,
   "metadata": {},
   "outputs": [],
   "source": [
    "import numpy as np\n",
    "import scipy\n",
    "import imageio"
   ]
  },
  {
   "cell_type": "markdown",
   "metadata": {},
   "source": [
    "## Defining functions"
   ]
  },
  {
   "cell_type": "code",
   "execution_count": 14,
   "metadata": {},
   "outputs": [],
   "source": [
    "A = np.random.rand(250, 250)"
   ]
  },
  {
   "cell_type": "code",
   "execution_count": 16,
   "metadata": {},
   "outputs": [
    {
     "name": "stdout",
     "output_type": "stream",
     "text": [
      "[[0.85603473 0.21282257 0.20069637 ... 0.1339425  0.8587118  0.90086254]\n",
      " [0.19044424 0.26316648 0.14405705 ... 0.64429181 0.44316553 0.05138068]\n",
      " [0.45798556 0.54217239 0.34956559 ... 0.02969309 0.75120985 0.07553086]\n",
      " ...\n",
      " [0.991142   0.0852528  0.66497835 ... 0.31386907 0.9504732  0.255203  ]\n",
      " [0.68043129 0.86962507 0.6119429  ... 0.98827641 0.42812499 0.56671893]\n",
      " [0.77389912 0.08732065 0.43345363 ... 0.32929193 0.49210121 0.43157931]]\n"
     ]
    }
   ],
   "source": [
    "print(A)"
   ]
  },
  {
   "cell_type": "code",
   "execution_count": 24,
   "metadata": {},
   "outputs": [
    {
     "data": {
      "text/plain": [
       "array([[0.85603473, 0.21282257]])"
      ]
     },
     "execution_count": 24,
     "metadata": {},
     "output_type": "execute_result"
    }
   ],
   "source": [
    "A[:1, :]"
   ]
  },
  {
   "cell_type": "code",
   "execution_count": 9,
   "metadata": {},
   "outputs": [],
   "source": [
    "# F == 1\n",
    "def adaptive_denoising(g, gamma, k, mode):\n",
    "    # calculating estimated dispersion measure disp_h\n",
    "    # then applying denoising over each pixel\n",
    "    img_final = np.zeros(g.shape, dtype=np.double)\n",
    "    if mode == 'average':\n",
    "        disp_h = np.std(g[:g.shape[0]//6, :g.shape[1]//6])\n",
    "    elif mode == 'robust':\n",
    "        disp_h = np.percentile(g[:g.shape[0]//6, :g.shape[1]//6], 25) - np.percentile(g[:g.shape[0]//6, :g.shape[1]//6], 75)\n",
    "    else raise ValueError(\"Unexpected value for mode (should be in ['average', 'robust'])\")\n",
    "    \n",
    "\n",
    "# F == 2\n",
    "def constrained_least_squares(g, gamma, k, sigma):\n",
    "    pass\n",
    "\n",
    "# gaussian_filter function\n",
    "def gaussian_filter(k=3, sigma=1.0):\n",
    "    arx = np.arange((-k // 2) + 1.0, (k // 2) + 1.0)\n",
    "    x, y = np.meshgrid(arx, arx)\n",
    "    filt = np.exp(-(1/2) * (np.square(x) + np.square(y)) / np.square(sigma))\n",
    "    return filt / np.sum(filt)\n",
    "\n",
    "# Normalize value of an numpy array between 0 and a given max value\n",
    "def normalize (arr, maxvalue):\n",
    "    return (arr-arr.min()) * (maxvalue / (arr.max()-arr.min()))\n",
    "\n",
    "# root mean squared error (RMSE) function\n",
    "def rmse (img_g, img_r):\n",
    "    np.sqrt((np.sum(np.power(img_g.astype(np.double) - img_r.astype(np.double), 2)))/(img_g.shape[0]*img_g.shape[1]))"
   ]
  },
  {
   "cell_type": "markdown",
   "metadata": {},
   "source": [
    "## Main function"
   ]
  },
  {
   "cell_type": "code",
   "execution_count": 10,
   "metadata": {},
   "outputs": [],
   "source": [
    "if __name__ == '__main__':\n",
    "    # get user input\n",
    "    fpath, gpath = str(input()).strip(), str(input()).strip() # f = reference image, g = degraded image\n",
    "    f, g = imageio.imread(fpath), imageio.imread(gpath) # reading images f and g\n",
    "    F = int(input()) # F = type of filter for restoration (1 -> denoising; 2 -> deblurring)\n",
    "    if (F not in [1, 2]): raise ValueError(\"Unexpected value for F (should be '1' or '2')\")\n",
    "        \n",
    "    gamma = np.double(input())\n",
    "    if (gamma < 0 or gamma > 1): raise ValueError(\"Unexpected value for gamma (should be a float between '0' and '1')\")\n",
    "        \n",
    "    k = int(input()) # k = size of denoising filter or degradation function (k in [3, 5, 7, 9, 11])\n",
    "    if (k not in [3, 5, 7, 9, 11]): raise ValueError(\"Unexpected value for k (should be in [3, 5, 7, 9, 11])\")\n",
    "        \n",
    "    # get specific inputs and restore image g\n",
    "    if(F == 1):\n",
    "        mode = str(input())\n",
    "        if (mode not in ['average', 'robust']): raise ValueError(\"Unexpected value for mode (should be in ['average', 'robust'])\")\n",
    "        # f_r = F1\n",
    "    elif (F == 2):\n",
    "        sigma = np.double(input())\n",
    "        if (sigma <= 0): raise ValueError(\"Unexpected value for sigma (should be a float > 0)\")\n",
    "        # f_r = F2\n",
    "    print('%.3f' % rmse(f, f_r))"
   ]
  }
 ],
 "metadata": {
  "kernelspec": {
   "display_name": "Python 3",
   "language": "python",
   "name": "python3"
  },
  "language_info": {
   "codemirror_mode": {
    "name": "ipython",
    "version": 3
   },
   "file_extension": ".py",
   "mimetype": "text/x-python",
   "name": "python",
   "nbconvert_exporter": "python",
   "pygments_lexer": "ipython3",
   "version": "3.6.5"
  }
 },
 "nbformat": 4,
 "nbformat_minor": 2
}
